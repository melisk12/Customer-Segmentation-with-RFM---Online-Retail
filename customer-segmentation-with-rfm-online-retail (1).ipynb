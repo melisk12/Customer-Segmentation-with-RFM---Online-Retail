{
 "cells": [
  {
   "cell_type": "markdown",
   "id": "3e3f9beb",
   "metadata": {
    "papermill": {
     "duration": 0.020455,
     "end_time": "2024-01-15T00:54:41.991573",
     "exception": false,
     "start_time": "2024-01-15T00:54:41.971118",
     "status": "completed"
    },
    "tags": []
   },
   "source": [
    "# **CRM**"
   ]
  },
  {
   "cell_type": "markdown",
   "id": "2563ab81",
   "metadata": {
    "execution": {
     "iopub.execute_input": "2023-10-25T14:20:21.331661Z",
     "iopub.status.busy": "2023-10-25T14:20:21.331190Z",
     "iopub.status.idle": "2023-10-25T14:20:21.344263Z",
     "shell.execute_reply": "2023-10-25T14:20:21.342311Z",
     "shell.execute_reply.started": "2023-10-25T14:20:21.331626Z"
    },
    "papermill": {
     "duration": 0.01964,
     "end_time": "2024-01-15T00:54:42.031281",
     "exception": false,
     "start_time": "2024-01-15T00:54:42.011641",
     "status": "completed"
    },
    "tags": []
   },
   "source": [
    "CRM, short for \"Customer Relationship Management,\" is the concept of effectively managing the communication between businesses and their customers. The goal is to strengthen customer satisfaction by adopting a customer-centric approach, acquiring new customers, and retaining existing ones while also increasing the profitability of the business. In the world of CRM, various CRM applications are used to achieve this goal. These include customer lifecycle optimizations, communication through various campaigns and digital marketing, efforts to acquire customers through promotions, customer retention strategies, cross-selling, up-selling efforts, customer segmentation activities, and more. The overall aim is to make the entire customer relationship process more efficient based on data-driven strategies. These are strategic efforts implemented to acquire more customers and profits with less time and effort."
   ]
  },
  {
   "cell_type": "markdown",
   "id": "49026a8c",
   "metadata": {
    "papermill": {
     "duration": 0.019694,
     "end_time": "2024-01-15T00:54:42.070814",
     "exception": false,
     "start_time": "2024-01-15T00:54:42.051120",
     "status": "completed"
    },
    "tags": []
   },
   "source": [
    "# **So What is the RFM ?**"
   ]
  },
  {
   "cell_type": "markdown",
   "id": "b3bc12c7",
   "metadata": {
    "papermill": {
     "duration": 0.01964,
     "end_time": "2024-01-15T00:54:42.110131",
     "exception": false,
     "start_time": "2024-01-15T00:54:42.090491",
     "status": "completed"
    },
    "tags": []
   },
   "source": [
    "The commonly used RFM analysis in CRM analytics gets its name from the initials of the recency, frequency, and monetary metrics. It allows for segmenting customers based on their purchase habits and enables strategic actions to be taken for each segment as needed. It is a rule-based technique used for customer segmentation."
   ]
  },
  {
   "cell_type": "markdown",
   "id": "80a353d7",
   "metadata": {
    "papermill": {
     "duration": 0.019367,
     "end_time": "2024-01-15T00:54:42.149283",
     "exception": false,
     "start_time": "2024-01-15T00:54:42.129916",
     "status": "completed"
    },
    "tags": []
   },
   "source": [
    "## RFM Metrics"
   ]
  },
  {
   "cell_type": "markdown",
   "id": "39a44a8e",
   "metadata": {
    "papermill": {
     "duration": 0.020404,
     "end_time": "2024-01-15T00:54:42.190190",
     "exception": false,
     "start_time": "2024-01-15T00:54:42.169786",
     "status": "completed"
    },
    "tags": []
   },
   "source": [
    "Recency: The customer's recency, either being new or the most recent purchase time. If one customer's recency score is 1 and another's is 10, the one with a score of 1 is better for us.\n",
    "\n",
    "Frequency:The total number of purchases a customer has made \n",
    "\n",
    "Monetary: Monetary value of the total spending made by the customer.\n"
   ]
  },
  {
   "cell_type": "markdown",
   "id": "30eb74db",
   "metadata": {
    "papermill": {
     "duration": 0.019688,
     "end_time": "2024-01-15T00:54:42.230597",
     "exception": false,
     "start_time": "2024-01-15T00:54:42.210909",
     "status": "completed"
    },
    "tags": []
   },
   "source": [
    "## What will we do?"
   ]
  },
  {
   "cell_type": "markdown",
   "id": "74345967",
   "metadata": {
    "papermill": {
     "duration": 0.019615,
     "end_time": "2024-01-15T00:54:42.270307",
     "exception": false,
     "start_time": "2024-01-15T00:54:42.250692",
     "status": "completed"
    },
    "tags": []
   },
   "source": [
    "After performing the necessary basic tasks to understand and prepare the data, we will conduct the RFM analysis in three steps.\n",
    "\n",
    "Calculation of RFM Metrics: We will calculate the Recency, Frequency, and Monetary values for each customer.\n",
    "\n",
    "Calculation of RFM Scores: We will convert the obtained Recency, Frequency, and Monetary values into scores ranging from 1 to 5. Our goal is to convert them all to the same gender and make them comparable. A distribution from 5 to 1 needs to be calculated, assigning 5 to large values and 1 to small values. In this step, it is important to note that a customer who has shopped just yesterday or a few days ago is more valuable to us. Therefore, unlike Frequency and Monetary values, those with smaller Recency values will be assigned 5, and those with larger values will receive 1. Afterward, we concatenate the scores we have created as string values.\n",
    "\n",
    "Creation and Analysis of RFM Segments: We group customers into simple segments based on the scores we have created."
   ]
  },
  {
   "cell_type": "markdown",
   "id": "9397c460",
   "metadata": {
    "papermill": {
     "duration": 0.019895,
     "end_time": "2024-01-15T00:54:42.309915",
     "exception": false,
     "start_time": "2024-01-15T00:54:42.290020",
     "status": "completed"
    },
    "tags": []
   },
   "source": [
    "# Customer Segmentation with RFM"
   ]
  },
  {
   "cell_type": "markdown",
   "id": "474ea112",
   "metadata": {
    "papermill": {
     "duration": 0.020675,
     "end_time": "2024-01-15T00:54:42.351196",
     "exception": false,
     "start_time": "2024-01-15T00:54:42.330521",
     "status": "completed"
    },
    "tags": []
   },
   "source": [
    "## Business Problem"
   ]
  },
  {
   "cell_type": "markdown",
   "id": "66a47785",
   "metadata": {
    "papermill": {
     "duration": 0.020462,
     "end_time": "2024-01-15T00:54:42.392893",
     "exception": false,
     "start_time": "2024-01-15T00:54:42.372431",
     "status": "completed"
    },
    "tags": []
   },
   "source": [
    "*An e-commerce company wants to segment its customers and determine marketing strategies based on these segments."
   ]
  },
  {
   "cell_type": "markdown",
   "id": "968b4876",
   "metadata": {
    "papermill": {
     "duration": 0.083031,
     "end_time": "2024-01-15T00:54:42.495633",
     "exception": false,
     "start_time": "2024-01-15T00:54:42.412602",
     "status": "completed"
    },
    "tags": []
   },
   "source": [
    "*The data set named 'Online Retail II' contains the sales of an online retail store based in the United Kingdom between 01/12/2009 and 09/12/2011.*"
   ]
  },
  {
   "cell_type": "markdown",
   "id": "f9998cdc",
   "metadata": {
    "papermill": {
     "duration": 0.020257,
     "end_time": "2024-01-15T00:54:42.536426",
     "exception": false,
     "start_time": "2024-01-15T00:54:42.516169",
     "status": "completed"
    },
    "tags": []
   },
   "source": [
    "### Variables"
   ]
  },
  {
   "cell_type": "markdown",
   "id": "cbf41f53",
   "metadata": {
    "papermill": {
     "duration": 0.020031,
     "end_time": "2024-01-15T00:54:42.577018",
     "exception": false,
     "start_time": "2024-01-15T00:54:42.556987",
     "status": "completed"
    },
    "tags": []
   },
   "source": [
    "- InvoiceNo: A unique number for each transaction or invoice. If it starts with 'C,' it indicates a canceled transaction.\n",
    "- StockCode: Product code. A unique number for each product.\n",
    "- Description: Product name\n",
    "- Quantity: Quantity of products. Indicates how many of each product were sold on the invoices.\n",
    "- InvoiceDate\n",
    "- UnitPrice: Product price (in Sterling)\n",
    "- CustomerID\n",
    "- Country: Country of the customer"
   ]
  },
  {
   "cell_type": "code",
   "execution_count": 1,
   "id": "19030230",
   "metadata": {
    "execution": {
     "iopub.execute_input": "2024-01-15T00:54:42.620903Z",
     "iopub.status.busy": "2024-01-15T00:54:42.619576Z",
     "iopub.status.idle": "2024-01-15T00:54:43.663592Z",
     "shell.execute_reply": "2024-01-15T00:54:43.661866Z"
    },
    "papermill": {
     "duration": 1.069436,
     "end_time": "2024-01-15T00:54:43.666697",
     "exception": false,
     "start_time": "2024-01-15T00:54:42.597261",
     "status": "completed"
    },
    "tags": []
   },
   "outputs": [],
   "source": [
    "import datetime as dt\n",
    "import pandas as pd\n",
    "pd.set_option('display.max_columns', None)\n",
    "pd.set_option('display.max_rows', None)\n",
    "pd.set_option('display.float_format', lambda x: '%.3f' % x)"
   ]
  },
  {
   "cell_type": "code",
   "execution_count": 2,
   "id": "70b00b26",
   "metadata": {
    "execution": {
     "iopub.execute_input": "2024-01-15T00:54:43.712878Z",
     "iopub.status.busy": "2024-01-15T00:54:43.710804Z",
     "iopub.status.idle": "2024-01-15T00:56:25.090748Z",
     "shell.execute_reply": "2024-01-15T00:56:25.089307Z"
    },
    "papermill": {
     "duration": 101.407324,
     "end_time": "2024-01-15T00:56:25.094319",
     "exception": false,
     "start_time": "2024-01-15T00:54:43.686995",
     "status": "completed"
    },
    "tags": []
   },
   "outputs": [],
   "source": [
    "df_ = pd.read_excel(\"/kaggle/input/online-retail/online_retail_II.xlsx\", sheet_name=\"Year 2009-2010\")"
   ]
  },
  {
   "cell_type": "markdown",
   "id": "0422d023",
   "metadata": {
    "papermill": {
     "duration": 0.019693,
     "end_time": "2024-01-15T00:56:25.134754",
     "exception": false,
     "start_time": "2024-01-15T00:56:25.115061",
     "status": "completed"
    },
    "tags": []
   },
   "source": [
    "Since it's a large dataset and reading it takes time, I've named it df_ in case we need to run it again. When working with the dataset, if I encounter an issue, I'll create a copy to continue working on, named df, so that I won't waste time reloading the dataset. This way, if there is a problem, I can revert to the original state of the dataset."
   ]
  },
  {
   "cell_type": "code",
   "execution_count": 3,
   "id": "001f9e4e",
   "metadata": {
    "execution": {
     "iopub.execute_input": "2024-01-15T00:56:25.177802Z",
     "iopub.status.busy": "2024-01-15T00:56:25.176495Z",
     "iopub.status.idle": "2024-01-15T00:56:25.213407Z",
     "shell.execute_reply": "2024-01-15T00:56:25.212373Z"
    },
    "papermill": {
     "duration": 0.061215,
     "end_time": "2024-01-15T00:56:25.216108",
     "exception": false,
     "start_time": "2024-01-15T00:56:25.154893",
     "status": "completed"
    },
    "tags": []
   },
   "outputs": [],
   "source": [
    "df = df_.copy()"
   ]
  },
  {
   "cell_type": "code",
   "execution_count": 4,
   "id": "f33af2ea",
   "metadata": {
    "execution": {
     "iopub.execute_input": "2024-01-15T00:56:25.258407Z",
     "iopub.status.busy": "2024-01-15T00:56:25.257972Z",
     "iopub.status.idle": "2024-01-15T00:56:25.435876Z",
     "shell.execute_reply": "2024-01-15T00:56:25.434621Z"
    },
    "papermill": {
     "duration": 0.2027,
     "end_time": "2024-01-15T00:56:25.439073",
     "exception": false,
     "start_time": "2024-01-15T00:56:25.236373",
     "status": "completed"
    },
    "tags": []
   },
   "outputs": [
    {
     "data": {
      "text/html": [
       "<div>\n",
       "<style scoped>\n",
       "    .dataframe tbody tr th:only-of-type {\n",
       "        vertical-align: middle;\n",
       "    }\n",
       "\n",
       "    .dataframe tbody tr th {\n",
       "        vertical-align: top;\n",
       "    }\n",
       "\n",
       "    .dataframe thead th {\n",
       "        text-align: right;\n",
       "    }\n",
       "</style>\n",
       "<table border=\"1\" class=\"dataframe\">\n",
       "  <thead>\n",
       "    <tr style=\"text-align: right;\">\n",
       "      <th></th>\n",
       "      <th>Invoice</th>\n",
       "      <th>StockCode</th>\n",
       "      <th>Description</th>\n",
       "      <th>Quantity</th>\n",
       "      <th>InvoiceDate</th>\n",
       "      <th>Price</th>\n",
       "      <th>Customer ID</th>\n",
       "      <th>Country</th>\n",
       "    </tr>\n",
       "  </thead>\n",
       "  <tbody>\n",
       "    <tr>\n",
       "      <th>0</th>\n",
       "      <td>489434</td>\n",
       "      <td>85048</td>\n",
       "      <td>15CM CHRISTMAS GLASS BALL 20 LIGHTS</td>\n",
       "      <td>12</td>\n",
       "      <td>2009-12-01 07:45:00</td>\n",
       "      <td>6.950</td>\n",
       "      <td>13085.000</td>\n",
       "      <td>United Kingdom</td>\n",
       "    </tr>\n",
       "    <tr>\n",
       "      <th>1</th>\n",
       "      <td>489434</td>\n",
       "      <td>79323P</td>\n",
       "      <td>PINK CHERRY LIGHTS</td>\n",
       "      <td>12</td>\n",
       "      <td>2009-12-01 07:45:00</td>\n",
       "      <td>6.750</td>\n",
       "      <td>13085.000</td>\n",
       "      <td>United Kingdom</td>\n",
       "    </tr>\n",
       "    <tr>\n",
       "      <th>2</th>\n",
       "      <td>489434</td>\n",
       "      <td>79323W</td>\n",
       "      <td>WHITE CHERRY LIGHTS</td>\n",
       "      <td>12</td>\n",
       "      <td>2009-12-01 07:45:00</td>\n",
       "      <td>6.750</td>\n",
       "      <td>13085.000</td>\n",
       "      <td>United Kingdom</td>\n",
       "    </tr>\n",
       "    <tr>\n",
       "      <th>3</th>\n",
       "      <td>489434</td>\n",
       "      <td>22041</td>\n",
       "      <td>RECORD FRAME 7\" SINGLE SIZE</td>\n",
       "      <td>48</td>\n",
       "      <td>2009-12-01 07:45:00</td>\n",
       "      <td>2.100</td>\n",
       "      <td>13085.000</td>\n",
       "      <td>United Kingdom</td>\n",
       "    </tr>\n",
       "    <tr>\n",
       "      <th>4</th>\n",
       "      <td>489434</td>\n",
       "      <td>21232</td>\n",
       "      <td>STRAWBERRY CERAMIC TRINKET BOX</td>\n",
       "      <td>24</td>\n",
       "      <td>2009-12-01 07:45:00</td>\n",
       "      <td>1.250</td>\n",
       "      <td>13085.000</td>\n",
       "      <td>United Kingdom</td>\n",
       "    </tr>\n",
       "  </tbody>\n",
       "</table>\n",
       "</div>"
      ],
      "text/plain": [
       "  Invoice StockCode                          Description  Quantity  \\\n",
       "0  489434     85048  15CM CHRISTMAS GLASS BALL 20 LIGHTS        12   \n",
       "1  489434    79323P                   PINK CHERRY LIGHTS        12   \n",
       "2  489434    79323W                  WHITE CHERRY LIGHTS        12   \n",
       "3  489434     22041         RECORD FRAME 7\" SINGLE SIZE         48   \n",
       "4  489434     21232       STRAWBERRY CERAMIC TRINKET BOX        24   \n",
       "\n",
       "          InvoiceDate  Price  Customer ID         Country  \n",
       "0 2009-12-01 07:45:00  6.950    13085.000  United Kingdom  \n",
       "1 2009-12-01 07:45:00  6.750    13085.000  United Kingdom  \n",
       "2 2009-12-01 07:45:00  6.750    13085.000  United Kingdom  \n",
       "3 2009-12-01 07:45:00  2.100    13085.000  United Kingdom  \n",
       "4 2009-12-01 07:45:00  1.250    13085.000  United Kingdom  "
      ]
     },
     "execution_count": 4,
     "metadata": {},
     "output_type": "execute_result"
    }
   ],
   "source": [
    "df.head()"
   ]
  },
  {
   "cell_type": "code",
   "execution_count": 5,
   "id": "b831e9b5",
   "metadata": {
    "execution": {
     "iopub.execute_input": "2024-01-15T00:56:25.481763Z",
     "iopub.status.busy": "2024-01-15T00:56:25.481401Z",
     "iopub.status.idle": "2024-01-15T00:56:25.487917Z",
     "shell.execute_reply": "2024-01-15T00:56:25.486693Z"
    },
    "papermill": {
     "duration": 0.030796,
     "end_time": "2024-01-15T00:56:25.490300",
     "exception": false,
     "start_time": "2024-01-15T00:56:25.459504",
     "status": "completed"
    },
    "tags": []
   },
   "outputs": [
    {
     "data": {
      "text/plain": [
       "(525461, 8)"
      ]
     },
     "execution_count": 5,
     "metadata": {},
     "output_type": "execute_result"
    }
   ],
   "source": [
    "df.shape"
   ]
  },
  {
   "cell_type": "code",
   "execution_count": 6,
   "id": "8709d343",
   "metadata": {
    "execution": {
     "iopub.execute_input": "2024-01-15T00:56:25.534423Z",
     "iopub.status.busy": "2024-01-15T00:56:25.534054Z",
     "iopub.status.idle": "2024-01-15T00:56:25.763408Z",
     "shell.execute_reply": "2024-01-15T00:56:25.762242Z"
    },
    "papermill": {
     "duration": 0.254947,
     "end_time": "2024-01-15T00:56:25.765967",
     "exception": false,
     "start_time": "2024-01-15T00:56:25.511020",
     "status": "completed"
    },
    "tags": []
   },
   "outputs": [
    {
     "data": {
      "text/plain": [
       "Invoice             0\n",
       "StockCode           0\n",
       "Description      2928\n",
       "Quantity            0\n",
       "InvoiceDate         0\n",
       "Price               0\n",
       "Customer ID    107927\n",
       "Country             0\n",
       "dtype: int64"
      ]
     },
     "execution_count": 6,
     "metadata": {},
     "output_type": "execute_result"
    }
   ],
   "source": [
    "df.isnull().sum() "
   ]
  },
  {
   "cell_type": "markdown",
   "id": "74e0b448",
   "metadata": {
    "papermill": {
     "duration": 0.020756,
     "end_time": "2024-01-15T00:56:25.807467",
     "exception": false,
     "start_time": "2024-01-15T00:56:25.786711",
     "status": "completed"
    },
    "tags": []
   },
   "source": [
    "There are missing values in the Customer ID and description variables. We will delete these values because without the customer's ID information, they do not carry any measurability value. Since I will conduct a segmentation study specific to the customer, we should clean these values."
   ]
  },
  {
   "cell_type": "markdown",
   "id": "ef9f4d3b",
   "metadata": {
    "papermill": {
     "duration": 0.020508,
     "end_time": "2024-01-15T00:56:25.849126",
     "exception": false,
     "start_time": "2024-01-15T00:56:25.828618",
     "status": "completed"
    },
    "tags": []
   },
   "source": [
    "Unique product count"
   ]
  },
  {
   "cell_type": "code",
   "execution_count": 7,
   "id": "81ef2fa5",
   "metadata": {
    "execution": {
     "iopub.execute_input": "2024-01-15T00:56:25.892557Z",
     "iopub.status.busy": "2024-01-15T00:56:25.892185Z",
     "iopub.status.idle": "2024-01-15T00:56:25.928446Z",
     "shell.execute_reply": "2024-01-15T00:56:25.927295Z"
    },
    "papermill": {
     "duration": 0.061019,
     "end_time": "2024-01-15T00:56:25.930939",
     "exception": false,
     "start_time": "2024-01-15T00:56:25.869920",
     "status": "completed"
    },
    "tags": []
   },
   "outputs": [
    {
     "data": {
      "text/plain": [
       "4681"
      ]
     },
     "execution_count": 7,
     "metadata": {},
     "output_type": "execute_result"
    }
   ],
   "source": [
    "df[\"Description\"].nunique()"
   ]
  },
  {
   "cell_type": "code",
   "execution_count": 8,
   "id": "eefbdaf0",
   "metadata": {
    "execution": {
     "iopub.execute_input": "2024-01-15T00:56:25.974567Z",
     "iopub.status.busy": "2024-01-15T00:56:25.974154Z",
     "iopub.status.idle": "2024-01-15T00:56:26.057562Z",
     "shell.execute_reply": "2024-01-15T00:56:26.056616Z"
    },
    "papermill": {
     "duration": 0.10842,
     "end_time": "2024-01-15T00:56:26.060204",
     "exception": false,
     "start_time": "2024-01-15T00:56:25.951784",
     "status": "completed"
    },
    "tags": []
   },
   "outputs": [
    {
     "data": {
      "text/plain": [
       "Description\n",
       "WHITE HANGING HEART T-LIGHT HOLDER    3549\n",
       "REGENCY CAKESTAND 3 TIER              2212\n",
       "STRAWBERRY CERAMIC TRINKET BOX        1843\n",
       "PACK OF 72 RETRO SPOT CAKE CASES      1466\n",
       "ASSORTED COLOUR BIRD ORNAMENT         1457\n",
       "Name: count, dtype: int64"
      ]
     },
     "execution_count": 8,
     "metadata": {},
     "output_type": "execute_result"
    }
   ],
   "source": [
    "df[\"Description\"].value_counts().head()"
   ]
  },
  {
   "cell_type": "markdown",
   "id": "6b20dc4f",
   "metadata": {
    "papermill": {
     "duration": 0.021164,
     "end_time": "2024-01-15T00:56:26.102617",
     "exception": false,
     "start_time": "2024-01-15T00:56:26.081453",
     "status": "completed"
    },
    "tags": []
   },
   "source": [
    "Which product is the most frequently ordered?"
   ]
  },
  {
   "cell_type": "code",
   "execution_count": 9,
   "id": "7fb8710b",
   "metadata": {
    "execution": {
     "iopub.execute_input": "2024-01-15T00:56:26.146387Z",
     "iopub.status.busy": "2024-01-15T00:56:26.145988Z",
     "iopub.status.idle": "2024-01-15T00:56:26.267919Z",
     "shell.execute_reply": "2024-01-15T00:56:26.266547Z"
    },
    "papermill": {
     "duration": 0.146912,
     "end_time": "2024-01-15T00:56:26.270619",
     "exception": false,
     "start_time": "2024-01-15T00:56:26.123707",
     "status": "completed"
    },
    "tags": []
   },
   "outputs": [
    {
     "data": {
      "text/html": [
       "<div>\n",
       "<style scoped>\n",
       "    .dataframe tbody tr th:only-of-type {\n",
       "        vertical-align: middle;\n",
       "    }\n",
       "\n",
       "    .dataframe tbody tr th {\n",
       "        vertical-align: top;\n",
       "    }\n",
       "\n",
       "    .dataframe thead th {\n",
       "        text-align: right;\n",
       "    }\n",
       "</style>\n",
       "<table border=\"1\" class=\"dataframe\">\n",
       "  <thead>\n",
       "    <tr style=\"text-align: right;\">\n",
       "      <th></th>\n",
       "      <th>Quantity</th>\n",
       "    </tr>\n",
       "    <tr>\n",
       "      <th>Description</th>\n",
       "      <th></th>\n",
       "    </tr>\n",
       "  </thead>\n",
       "  <tbody>\n",
       "    <tr>\n",
       "      <th>21494</th>\n",
       "      <td>-720</td>\n",
       "    </tr>\n",
       "    <tr>\n",
       "      <th>22467</th>\n",
       "      <td>-2</td>\n",
       "    </tr>\n",
       "    <tr>\n",
       "      <th>22719</th>\n",
       "      <td>2</td>\n",
       "    </tr>\n",
       "    <tr>\n",
       "      <th>DOORMAT UNION JACK GUNS AND ROSES</th>\n",
       "      <td>179</td>\n",
       "    </tr>\n",
       "    <tr>\n",
       "      <th>3 STRIPEY MICE FELTCRAFT</th>\n",
       "      <td>690</td>\n",
       "    </tr>\n",
       "  </tbody>\n",
       "</table>\n",
       "</div>"
      ],
      "text/plain": [
       "                                     Quantity\n",
       "Description                                  \n",
       "21494                                    -720\n",
       "22467                                      -2\n",
       "22719                                       2\n",
       "  DOORMAT UNION JACK GUNS AND ROSES       179\n",
       " 3 STRIPEY MICE FELTCRAFT                 690"
      ]
     },
     "execution_count": 9,
     "metadata": {},
     "output_type": "execute_result"
    }
   ],
   "source": [
    "df.groupby(\"Description\").agg({\"Quantity\": \"sum\"}).head()"
   ]
  },
  {
   "cell_type": "markdown",
   "id": "ec2c3703",
   "metadata": {
    "papermill": {
     "duration": 0.020969,
     "end_time": "2024-01-15T00:56:26.313034",
     "exception": false,
     "start_time": "2024-01-15T00:56:26.292065",
     "status": "completed"
    },
    "tags": []
   },
   "source": [
    "We couldn't observe it because quantity cannot be negative. We won't take any action for now. We'll address it in the data preprocessing section."
   ]
  },
  {
   "cell_type": "code",
   "execution_count": 10,
   "id": "f9d139f2",
   "metadata": {
    "execution": {
     "iopub.execute_input": "2024-01-15T00:56:26.358190Z",
     "iopub.status.busy": "2024-01-15T00:56:26.357729Z",
     "iopub.status.idle": "2024-01-15T00:56:26.470033Z",
     "shell.execute_reply": "2024-01-15T00:56:26.468899Z"
    },
    "papermill": {
     "duration": 0.138261,
     "end_time": "2024-01-15T00:56:26.472714",
     "exception": false,
     "start_time": "2024-01-15T00:56:26.334453",
     "status": "completed"
    },
    "tags": []
   },
   "outputs": [
    {
     "data": {
      "text/html": [
       "<div>\n",
       "<style scoped>\n",
       "    .dataframe tbody tr th:only-of-type {\n",
       "        vertical-align: middle;\n",
       "    }\n",
       "\n",
       "    .dataframe tbody tr th {\n",
       "        vertical-align: top;\n",
       "    }\n",
       "\n",
       "    .dataframe thead th {\n",
       "        text-align: right;\n",
       "    }\n",
       "</style>\n",
       "<table border=\"1\" class=\"dataframe\">\n",
       "  <thead>\n",
       "    <tr style=\"text-align: right;\">\n",
       "      <th></th>\n",
       "      <th>Quantity</th>\n",
       "    </tr>\n",
       "    <tr>\n",
       "      <th>Description</th>\n",
       "      <th></th>\n",
       "    </tr>\n",
       "  </thead>\n",
       "  <tbody>\n",
       "    <tr>\n",
       "      <th>WHITE HANGING HEART T-LIGHT HOLDER</th>\n",
       "      <td>57733</td>\n",
       "    </tr>\n",
       "    <tr>\n",
       "      <th>WORLD WAR 2 GLIDERS ASSTD DESIGNS</th>\n",
       "      <td>54698</td>\n",
       "    </tr>\n",
       "    <tr>\n",
       "      <th>BROCADE RING PURSE</th>\n",
       "      <td>47647</td>\n",
       "    </tr>\n",
       "    <tr>\n",
       "      <th>PACK OF 72 RETRO SPOT CAKE CASES</th>\n",
       "      <td>46106</td>\n",
       "    </tr>\n",
       "    <tr>\n",
       "      <th>ASSORTED COLOUR BIRD ORNAMENT</th>\n",
       "      <td>44925</td>\n",
       "    </tr>\n",
       "  </tbody>\n",
       "</table>\n",
       "</div>"
      ],
      "text/plain": [
       "                                    Quantity\n",
       "Description                                 \n",
       "WHITE HANGING HEART T-LIGHT HOLDER     57733\n",
       "WORLD WAR 2 GLIDERS ASSTD DESIGNS      54698\n",
       "BROCADE RING PURSE                     47647\n",
       "PACK OF 72 RETRO SPOT CAKE CASES       46106\n",
       "ASSORTED COLOUR BIRD ORNAMENT          44925"
      ]
     },
     "execution_count": 10,
     "metadata": {},
     "output_type": "execute_result"
    }
   ],
   "source": [
    "df.groupby(\"Description\").agg({\"Quantity\": \"sum\"}).sort_values(\"Quantity\", ascending=False).head()"
   ]
  },
  {
   "cell_type": "markdown",
   "id": "569fb71d",
   "metadata": {
    "papermill": {
     "duration": 0.02144,
     "end_time": "2024-01-15T00:56:26.516176",
     "exception": false,
     "start_time": "2024-01-15T00:56:26.494736",
     "status": "completed"
    },
    "tags": []
   },
   "source": [
    "Let's check how many unique invoices have been issued in total."
   ]
  },
  {
   "cell_type": "code",
   "execution_count": 11,
   "id": "ca633d67",
   "metadata": {
    "execution": {
     "iopub.execute_input": "2024-01-15T00:56:26.562166Z",
     "iopub.status.busy": "2024-01-15T00:56:26.561770Z",
     "iopub.status.idle": "2024-01-15T00:56:26.604157Z",
     "shell.execute_reply": "2024-01-15T00:56:26.602924Z"
    },
    "papermill": {
     "duration": 0.068017,
     "end_time": "2024-01-15T00:56:26.606818",
     "exception": false,
     "start_time": "2024-01-15T00:56:26.538801",
     "status": "completed"
    },
    "tags": []
   },
   "outputs": [
    {
     "data": {
      "text/plain": [
       "28816"
      ]
     },
     "execution_count": 11,
     "metadata": {},
     "output_type": "execute_result"
    }
   ],
   "source": [
    "df[\"Invoice\"].nunique()"
   ]
  },
  {
   "cell_type": "markdown",
   "id": "adc9718d",
   "metadata": {
    "papermill": {
     "duration": 0.021721,
     "end_time": "2024-01-15T00:56:26.651190",
     "exception": false,
     "start_time": "2024-01-15T00:56:26.629469",
     "status": "completed"
    },
    "tags": []
   },
   "source": [
    "I'm calculating the full price information for each product to see how much money has been earned per invoice."
   ]
  },
  {
   "cell_type": "code",
   "execution_count": 12,
   "id": "0a794582",
   "metadata": {
    "execution": {
     "iopub.execute_input": "2024-01-15T00:56:26.697101Z",
     "iopub.status.busy": "2024-01-15T00:56:26.696687Z",
     "iopub.status.idle": "2024-01-15T00:56:26.705090Z",
     "shell.execute_reply": "2024-01-15T00:56:26.704030Z"
    },
    "papermill": {
     "duration": 0.034477,
     "end_time": "2024-01-15T00:56:26.707496",
     "exception": false,
     "start_time": "2024-01-15T00:56:26.673019",
     "status": "completed"
    },
    "tags": []
   },
   "outputs": [],
   "source": [
    "df[\"TotalPrice\"] = df[\"Quantity\"] * df[\"Price\"] \n"
   ]
  },
  {
   "cell_type": "code",
   "execution_count": 13,
   "id": "dd5c56e8",
   "metadata": {
    "execution": {
     "iopub.execute_input": "2024-01-15T00:56:26.754147Z",
     "iopub.status.busy": "2024-01-15T00:56:26.753673Z",
     "iopub.status.idle": "2024-01-15T00:56:26.938721Z",
     "shell.execute_reply": "2024-01-15T00:56:26.937566Z"
    },
    "papermill": {
     "duration": 0.211969,
     "end_time": "2024-01-15T00:56:26.941431",
     "exception": false,
     "start_time": "2024-01-15T00:56:26.729462",
     "status": "completed"
    },
    "tags": []
   },
   "outputs": [
    {
     "data": {
      "text/html": [
       "<div>\n",
       "<style scoped>\n",
       "    .dataframe tbody tr th:only-of-type {\n",
       "        vertical-align: middle;\n",
       "    }\n",
       "\n",
       "    .dataframe tbody tr th {\n",
       "        vertical-align: top;\n",
       "    }\n",
       "\n",
       "    .dataframe thead th {\n",
       "        text-align: right;\n",
       "    }\n",
       "</style>\n",
       "<table border=\"1\" class=\"dataframe\">\n",
       "  <thead>\n",
       "    <tr style=\"text-align: right;\">\n",
       "      <th></th>\n",
       "      <th>TotalPrice</th>\n",
       "    </tr>\n",
       "    <tr>\n",
       "      <th>Invoice</th>\n",
       "      <th></th>\n",
       "    </tr>\n",
       "  </thead>\n",
       "  <tbody>\n",
       "    <tr>\n",
       "      <th>489434</th>\n",
       "      <td>505.300</td>\n",
       "    </tr>\n",
       "    <tr>\n",
       "      <th>489435</th>\n",
       "      <td>145.800</td>\n",
       "    </tr>\n",
       "    <tr>\n",
       "      <th>489436</th>\n",
       "      <td>630.330</td>\n",
       "    </tr>\n",
       "    <tr>\n",
       "      <th>489437</th>\n",
       "      <td>310.750</td>\n",
       "    </tr>\n",
       "    <tr>\n",
       "      <th>489438</th>\n",
       "      <td>2286.240</td>\n",
       "    </tr>\n",
       "  </tbody>\n",
       "</table>\n",
       "</div>"
      ],
      "text/plain": [
       "         TotalPrice\n",
       "Invoice            \n",
       "489434      505.300\n",
       "489435      145.800\n",
       "489436      630.330\n",
       "489437      310.750\n",
       "489438     2286.240"
      ]
     },
     "execution_count": 13,
     "metadata": {},
     "output_type": "execute_result"
    }
   ],
   "source": [
    "df.groupby(\"Invoice\").agg({\"TotalPrice\": \"sum\"}).head()"
   ]
  },
  {
   "cell_type": "markdown",
   "id": "9fbbdd48",
   "metadata": {
    "papermill": {
     "duration": 0.021754,
     "end_time": "2024-01-15T00:56:26.985242",
     "exception": false,
     "start_time": "2024-01-15T00:56:26.963488",
     "status": "completed"
    },
    "tags": []
   },
   "source": [
    "## Data Preparation"
   ]
  },
  {
   "cell_type": "code",
   "execution_count": 14,
   "id": "251823d0",
   "metadata": {
    "execution": {
     "iopub.execute_input": "2024-01-15T00:56:27.032891Z",
     "iopub.status.busy": "2024-01-15T00:56:27.032455Z",
     "iopub.status.idle": "2024-01-15T00:56:27.040031Z",
     "shell.execute_reply": "2024-01-15T00:56:27.038751Z"
    },
    "papermill": {
     "duration": 0.034794,
     "end_time": "2024-01-15T00:56:27.042611",
     "exception": false,
     "start_time": "2024-01-15T00:56:27.007817",
     "status": "completed"
    },
    "tags": []
   },
   "outputs": [
    {
     "data": {
      "text/plain": [
       "(525461, 9)"
      ]
     },
     "execution_count": 14,
     "metadata": {},
     "output_type": "execute_result"
    }
   ],
   "source": [
    "df.shape"
   ]
  },
  {
   "cell_type": "code",
   "execution_count": 15,
   "id": "35341683",
   "metadata": {
    "execution": {
     "iopub.execute_input": "2024-01-15T00:56:27.089618Z",
     "iopub.status.busy": "2024-01-15T00:56:27.089194Z",
     "iopub.status.idle": "2024-01-15T00:56:27.319722Z",
     "shell.execute_reply": "2024-01-15T00:56:27.318606Z"
    },
    "papermill": {
     "duration": 0.257239,
     "end_time": "2024-01-15T00:56:27.322591",
     "exception": false,
     "start_time": "2024-01-15T00:56:27.065352",
     "status": "completed"
    },
    "tags": []
   },
   "outputs": [
    {
     "data": {
      "text/plain": [
       "Invoice             0\n",
       "StockCode           0\n",
       "Description      2928\n",
       "Quantity            0\n",
       "InvoiceDate         0\n",
       "Price               0\n",
       "Customer ID    107927\n",
       "Country             0\n",
       "TotalPrice          0\n",
       "dtype: int64"
      ]
     },
     "execution_count": 15,
     "metadata": {},
     "output_type": "execute_result"
    }
   ],
   "source": [
    "df.isnull().sum() "
   ]
  },
  {
   "cell_type": "markdown",
   "id": "839a6317",
   "metadata": {
    "papermill": {
     "duration": 0.021913,
     "end_time": "2024-01-15T00:56:27.367107",
     "exception": false,
     "start_time": "2024-01-15T00:56:27.345194",
     "status": "completed"
    },
    "tags": []
   },
   "source": [
    "There are missing values in the Customer ID and description variables. We will delete these values because without the customer's ID information, they do not carry any measurability value. Since I will conduct a segmentation study specific to the customer, we should clean these values."
   ]
  },
  {
   "cell_type": "code",
   "execution_count": 16,
   "id": "e091f46e",
   "metadata": {
    "execution": {
     "iopub.execute_input": "2024-01-15T00:56:27.414645Z",
     "iopub.status.busy": "2024-01-15T00:56:27.414257Z",
     "iopub.status.idle": "2024-01-15T00:56:27.548424Z",
     "shell.execute_reply": "2024-01-15T00:56:27.547315Z"
    },
    "papermill": {
     "duration": 0.161569,
     "end_time": "2024-01-15T00:56:27.551059",
     "exception": false,
     "start_time": "2024-01-15T00:56:27.389490",
     "status": "completed"
    },
    "tags": []
   },
   "outputs": [
    {
     "data": {
      "text/html": [
       "<div>\n",
       "<style scoped>\n",
       "    .dataframe tbody tr th:only-of-type {\n",
       "        vertical-align: middle;\n",
       "    }\n",
       "\n",
       "    .dataframe tbody tr th {\n",
       "        vertical-align: top;\n",
       "    }\n",
       "\n",
       "    .dataframe thead th {\n",
       "        text-align: right;\n",
       "    }\n",
       "</style>\n",
       "<table border=\"1\" class=\"dataframe\">\n",
       "  <thead>\n",
       "    <tr style=\"text-align: right;\">\n",
       "      <th></th>\n",
       "      <th>count</th>\n",
       "      <th>mean</th>\n",
       "      <th>min</th>\n",
       "      <th>25%</th>\n",
       "      <th>50%</th>\n",
       "      <th>75%</th>\n",
       "      <th>max</th>\n",
       "      <th>std</th>\n",
       "    </tr>\n",
       "  </thead>\n",
       "  <tbody>\n",
       "    <tr>\n",
       "      <th>Quantity</th>\n",
       "      <td>525461.000</td>\n",
       "      <td>10.338</td>\n",
       "      <td>-9600.000</td>\n",
       "      <td>1.000</td>\n",
       "      <td>3.000</td>\n",
       "      <td>10.000</td>\n",
       "      <td>19152.000</td>\n",
       "      <td>107.424</td>\n",
       "    </tr>\n",
       "    <tr>\n",
       "      <th>InvoiceDate</th>\n",
       "      <td>525461</td>\n",
       "      <td>2010-06-28 11:37:36.845017856</td>\n",
       "      <td>2009-12-01 07:45:00</td>\n",
       "      <td>2010-03-21 12:20:00</td>\n",
       "      <td>2010-07-06 09:51:00</td>\n",
       "      <td>2010-10-15 12:45:00</td>\n",
       "      <td>2010-12-09 20:01:00</td>\n",
       "      <td>NaN</td>\n",
       "    </tr>\n",
       "    <tr>\n",
       "      <th>Price</th>\n",
       "      <td>525461.000</td>\n",
       "      <td>4.689</td>\n",
       "      <td>-53594.360</td>\n",
       "      <td>1.250</td>\n",
       "      <td>2.100</td>\n",
       "      <td>4.210</td>\n",
       "      <td>25111.090</td>\n",
       "      <td>146.127</td>\n",
       "    </tr>\n",
       "    <tr>\n",
       "      <th>Customer ID</th>\n",
       "      <td>417534.000</td>\n",
       "      <td>15360.645</td>\n",
       "      <td>12346.000</td>\n",
       "      <td>13983.000</td>\n",
       "      <td>15311.000</td>\n",
       "      <td>16799.000</td>\n",
       "      <td>18287.000</td>\n",
       "      <td>1680.811</td>\n",
       "    </tr>\n",
       "    <tr>\n",
       "      <th>TotalPrice</th>\n",
       "      <td>525461.000</td>\n",
       "      <td>18.155</td>\n",
       "      <td>-53594.360</td>\n",
       "      <td>3.750</td>\n",
       "      <td>9.950</td>\n",
       "      <td>17.700</td>\n",
       "      <td>25111.090</td>\n",
       "      <td>160.333</td>\n",
       "    </tr>\n",
       "  </tbody>\n",
       "</table>\n",
       "</div>"
      ],
      "text/plain": [
       "                 count                           mean                  min  \\\n",
       "Quantity    525461.000                         10.338            -9600.000   \n",
       "InvoiceDate     525461  2010-06-28 11:37:36.845017856  2009-12-01 07:45:00   \n",
       "Price       525461.000                          4.689           -53594.360   \n",
       "Customer ID 417534.000                      15360.645            12346.000   \n",
       "TotalPrice  525461.000                         18.155           -53594.360   \n",
       "\n",
       "                             25%                  50%                  75%  \\\n",
       "Quantity                   1.000                3.000               10.000   \n",
       "InvoiceDate  2010-03-21 12:20:00  2010-07-06 09:51:00  2010-10-15 12:45:00   \n",
       "Price                      1.250                2.100                4.210   \n",
       "Customer ID            13983.000            15311.000            16799.000   \n",
       "TotalPrice                 3.750                9.950               17.700   \n",
       "\n",
       "                             max      std  \n",
       "Quantity               19152.000  107.424  \n",
       "InvoiceDate  2010-12-09 20:01:00      NaN  \n",
       "Price                  25111.090  146.127  \n",
       "Customer ID            18287.000 1680.811  \n",
       "TotalPrice             25111.090  160.333  "
      ]
     },
     "execution_count": 16,
     "metadata": {},
     "output_type": "execute_result"
    }
   ],
   "source": [
    "df.describe().T"
   ]
  },
  {
   "cell_type": "code",
   "execution_count": 17,
   "id": "09a2e7af",
   "metadata": {
    "execution": {
     "iopub.execute_input": "2024-01-15T00:56:27.599557Z",
     "iopub.status.busy": "2024-01-15T00:56:27.598743Z",
     "iopub.status.idle": "2024-01-15T00:56:27.666896Z",
     "shell.execute_reply": "2024-01-15T00:56:27.665557Z"
    },
    "papermill": {
     "duration": 0.096473,
     "end_time": "2024-01-15T00:56:27.670335",
     "exception": false,
     "start_time": "2024-01-15T00:56:27.573862",
     "status": "completed"
    },
    "tags": []
   },
   "outputs": [],
   "source": [
    "df = df[(df['Quantity'] > 0)]"
   ]
  },
  {
   "cell_type": "code",
   "execution_count": 18,
   "id": "a981008d",
   "metadata": {
    "execution": {
     "iopub.execute_input": "2024-01-15T00:56:27.718800Z",
     "iopub.status.busy": "2024-01-15T00:56:27.718165Z",
     "iopub.status.idle": "2024-01-15T00:56:27.995453Z",
     "shell.execute_reply": "2024-01-15T00:56:27.994561Z"
    },
    "papermill": {
     "duration": 0.304755,
     "end_time": "2024-01-15T00:56:27.998194",
     "exception": false,
     "start_time": "2024-01-15T00:56:27.693439",
     "status": "completed"
    },
    "tags": []
   },
   "outputs": [],
   "source": [
    "df.dropna(inplace=True)"
   ]
  },
  {
   "cell_type": "markdown",
   "id": "1e263474",
   "metadata": {
    "papermill": {
     "duration": 0.022874,
     "end_time": "2024-01-15T00:56:28.044505",
     "exception": false,
     "start_time": "2024-01-15T00:56:28.021631",
     "status": "completed"
    },
    "tags": []
   },
   "source": [
    "There are values with '-' in the Quantity, Price, and Total Price variables. Let's remove the invoices for returned items from the dataset."
   ]
  },
  {
   "cell_type": "code",
   "execution_count": 19,
   "id": "03bd3063",
   "metadata": {
    "execution": {
     "iopub.execute_input": "2024-01-15T00:56:28.092952Z",
     "iopub.status.busy": "2024-01-15T00:56:28.092314Z",
     "iopub.status.idle": "2024-01-15T00:56:28.589297Z",
     "shell.execute_reply": "2024-01-15T00:56:28.588344Z"
    },
    "papermill": {
     "duration": 0.524512,
     "end_time": "2024-01-15T00:56:28.591992",
     "exception": false,
     "start_time": "2024-01-15T00:56:28.067480",
     "status": "completed"
    },
    "tags": []
   },
   "outputs": [],
   "source": [
    "df[\"Invoice\"] = df[\"Invoice\"].astype(str)\n",
    "df = df[~df[\"Invoice\"].str.contains(\"C\", na=False)]"
   ]
  },
  {
   "cell_type": "markdown",
   "id": "79f1f956",
   "metadata": {
    "papermill": {
     "duration": 0.022533,
     "end_time": "2024-01-15T00:56:28.638339",
     "exception": false,
     "start_time": "2024-01-15T00:56:28.615806",
     "status": "completed"
    },
    "tags": []
   },
   "source": [
    "## Calculating RFM Metrics"
   ]
  },
  {
   "cell_type": "markdown",
   "id": "bb84d006",
   "metadata": {
    "papermill": {
     "duration": 0.022329,
     "end_time": "2024-01-15T00:56:28.683472",
     "exception": false,
     "start_time": "2024-01-15T00:56:28.661143",
     "status": "completed"
    },
    "tags": []
   },
   "source": [
    "We will calculate Recency, Frequency, and Monetary values for each customer.\n",
    "\n",
    "- Recency: the analysis date - the date of the customer's last purchase\n",
    "\n",
    "- Frequency: the total number of purchases made by the customer\n",
    "\n",
    "- Monetary: the total amount spent by the custome"
   ]
  },
  {
   "cell_type": "markdown",
   "id": "db526f2e",
   "metadata": {
    "papermill": {
     "duration": 0.022739,
     "end_time": "2024-01-15T00:56:28.729345",
     "exception": false,
     "start_time": "2024-01-15T00:56:28.706606",
     "status": "completed"
    },
    "tags": []
   },
   "source": [
    "First, we need to determine the analysis date. Since the dataset contains data from 2009 to 2011, and we didn't conduct the analysis during that period, we should define an analysis date.\n",
    "\n",
    "We will consider the most recent date in the dataset and add 2 days to it to set it as the analysis date."
   ]
  },
  {
   "cell_type": "code",
   "execution_count": 20,
   "id": "08fe7e7a",
   "metadata": {
    "execution": {
     "iopub.execute_input": "2024-01-15T00:56:28.779129Z",
     "iopub.status.busy": "2024-01-15T00:56:28.778451Z",
     "iopub.status.idle": "2024-01-15T00:56:28.786056Z",
     "shell.execute_reply": "2024-01-15T00:56:28.785159Z"
    },
    "papermill": {
     "duration": 0.034337,
     "end_time": "2024-01-15T00:56:28.788357",
     "exception": false,
     "start_time": "2024-01-15T00:56:28.754020",
     "status": "completed"
    },
    "tags": []
   },
   "outputs": [
    {
     "data": {
      "text/plain": [
       "Timestamp('2010-12-09 20:01:00')"
      ]
     },
     "execution_count": 20,
     "metadata": {},
     "output_type": "execute_result"
    }
   ],
   "source": [
    "df[\"InvoiceDate\"].max()  #ilgili müşterinin son satın alma tarihi"
   ]
  },
  {
   "cell_type": "code",
   "execution_count": 21,
   "id": "07b03708",
   "metadata": {
    "execution": {
     "iopub.execute_input": "2024-01-15T00:56:28.836524Z",
     "iopub.status.busy": "2024-01-15T00:56:28.835466Z",
     "iopub.status.idle": "2024-01-15T00:56:28.840600Z",
     "shell.execute_reply": "2024-01-15T00:56:28.839773Z"
    },
    "papermill": {
     "duration": 0.031591,
     "end_time": "2024-01-15T00:56:28.842792",
     "exception": false,
     "start_time": "2024-01-15T00:56:28.811201",
     "status": "completed"
    },
    "tags": []
   },
   "outputs": [],
   "source": [
    "today_date = dt.datetime(2010, 12, 11)"
   ]
  },
  {
   "cell_type": "code",
   "execution_count": 22,
   "id": "bd59a8ac",
   "metadata": {
    "execution": {
     "iopub.execute_input": "2024-01-15T00:56:28.891695Z",
     "iopub.status.busy": "2024-01-15T00:56:28.890553Z",
     "iopub.status.idle": "2024-01-15T00:56:30.600623Z",
     "shell.execute_reply": "2024-01-15T00:56:30.599309Z"
    },
    "papermill": {
     "duration": 1.737282,
     "end_time": "2024-01-15T00:56:30.603494",
     "exception": false,
     "start_time": "2024-01-15T00:56:28.866212",
     "status": "completed"
    },
    "tags": []
   },
   "outputs": [],
   "source": [
    "rfm = df.groupby('Customer ID').agg({'InvoiceDate': lambda InvoiceDate: (today_date - InvoiceDate.max()).days,\n",
    "                                     'Invoice': lambda Invoice: Invoice.nunique(),   \n",
    "                                     'TotalPrice': lambda TotalPrice: TotalPrice.sum()})"
   ]
  },
  {
   "cell_type": "code",
   "execution_count": 23,
   "id": "eb3f726c",
   "metadata": {
    "execution": {
     "iopub.execute_input": "2024-01-15T00:56:30.654242Z",
     "iopub.status.busy": "2024-01-15T00:56:30.653808Z",
     "iopub.status.idle": "2024-01-15T00:56:30.665137Z",
     "shell.execute_reply": "2024-01-15T00:56:30.664017Z"
    },
    "papermill": {
     "duration": 0.040749,
     "end_time": "2024-01-15T00:56:30.667469",
     "exception": false,
     "start_time": "2024-01-15T00:56:30.626720",
     "status": "completed"
    },
    "tags": []
   },
   "outputs": [
    {
     "data": {
      "text/html": [
       "<div>\n",
       "<style scoped>\n",
       "    .dataframe tbody tr th:only-of-type {\n",
       "        vertical-align: middle;\n",
       "    }\n",
       "\n",
       "    .dataframe tbody tr th {\n",
       "        vertical-align: top;\n",
       "    }\n",
       "\n",
       "    .dataframe thead th {\n",
       "        text-align: right;\n",
       "    }\n",
       "</style>\n",
       "<table border=\"1\" class=\"dataframe\">\n",
       "  <thead>\n",
       "    <tr style=\"text-align: right;\">\n",
       "      <th></th>\n",
       "      <th>InvoiceDate</th>\n",
       "      <th>Invoice</th>\n",
       "      <th>TotalPrice</th>\n",
       "    </tr>\n",
       "    <tr>\n",
       "      <th>Customer ID</th>\n",
       "      <th></th>\n",
       "      <th></th>\n",
       "      <th></th>\n",
       "    </tr>\n",
       "  </thead>\n",
       "  <tbody>\n",
       "    <tr>\n",
       "      <th>12346.000</th>\n",
       "      <td>165</td>\n",
       "      <td>11</td>\n",
       "      <td>372.860</td>\n",
       "    </tr>\n",
       "    <tr>\n",
       "      <th>12347.000</th>\n",
       "      <td>3</td>\n",
       "      <td>2</td>\n",
       "      <td>1323.320</td>\n",
       "    </tr>\n",
       "    <tr>\n",
       "      <th>12348.000</th>\n",
       "      <td>74</td>\n",
       "      <td>1</td>\n",
       "      <td>222.160</td>\n",
       "    </tr>\n",
       "    <tr>\n",
       "      <th>12349.000</th>\n",
       "      <td>43</td>\n",
       "      <td>3</td>\n",
       "      <td>2671.140</td>\n",
       "    </tr>\n",
       "    <tr>\n",
       "      <th>12351.000</th>\n",
       "      <td>11</td>\n",
       "      <td>1</td>\n",
       "      <td>300.930</td>\n",
       "    </tr>\n",
       "  </tbody>\n",
       "</table>\n",
       "</div>"
      ],
      "text/plain": [
       "             InvoiceDate  Invoice  TotalPrice\n",
       "Customer ID                                  \n",
       "12346.000            165       11     372.860\n",
       "12347.000              3        2    1323.320\n",
       "12348.000             74        1     222.160\n",
       "12349.000             43        3    2671.140\n",
       "12351.000             11        1     300.930"
      ]
     },
     "execution_count": 23,
     "metadata": {},
     "output_type": "execute_result"
    }
   ],
   "source": [
    "rfm.head()"
   ]
  },
  {
   "cell_type": "markdown",
   "id": "23f8763e",
   "metadata": {
    "papermill": {
     "duration": 0.02483,
     "end_time": "2024-01-15T00:56:30.716391",
     "exception": false,
     "start_time": "2024-01-15T00:56:30.691561",
     "status": "completed"
    },
    "tags": []
   },
   "source": [
    "We have changed the variable names with RFM metrics."
   ]
  },
  {
   "cell_type": "code",
   "execution_count": 24,
   "id": "eec4c822",
   "metadata": {
    "execution": {
     "iopub.execute_input": "2024-01-15T00:56:30.768462Z",
     "iopub.status.busy": "2024-01-15T00:56:30.768077Z",
     "iopub.status.idle": "2024-01-15T00:56:30.772877Z",
     "shell.execute_reply": "2024-01-15T00:56:30.771937Z"
    },
    "papermill": {
     "duration": 0.034555,
     "end_time": "2024-01-15T00:56:30.775136",
     "exception": false,
     "start_time": "2024-01-15T00:56:30.740581",
     "status": "completed"
    },
    "tags": []
   },
   "outputs": [],
   "source": [
    "rfm.columns = ['recency', 'frequency', 'monetary']"
   ]
  },
  {
   "cell_type": "markdown",
   "id": "de3599a8",
   "metadata": {
    "papermill": {
     "duration": 0.024355,
     "end_time": "2024-01-15T00:56:30.823246",
     "exception": false,
     "start_time": "2024-01-15T00:56:30.798891",
     "status": "completed"
    },
    "tags": []
   },
   "source": [
    "I'm checking."
   ]
  },
  {
   "cell_type": "code",
   "execution_count": 25,
   "id": "b54cdf73",
   "metadata": {
    "execution": {
     "iopub.execute_input": "2024-01-15T00:56:30.872300Z",
     "iopub.status.busy": "2024-01-15T00:56:30.871219Z",
     "iopub.status.idle": "2024-01-15T00:56:30.893366Z",
     "shell.execute_reply": "2024-01-15T00:56:30.891998Z"
    },
    "papermill": {
     "duration": 0.049583,
     "end_time": "2024-01-15T00:56:30.896063",
     "exception": false,
     "start_time": "2024-01-15T00:56:30.846480",
     "status": "completed"
    },
    "tags": []
   },
   "outputs": [
    {
     "data": {
      "text/html": [
       "<div>\n",
       "<style scoped>\n",
       "    .dataframe tbody tr th:only-of-type {\n",
       "        vertical-align: middle;\n",
       "    }\n",
       "\n",
       "    .dataframe tbody tr th {\n",
       "        vertical-align: top;\n",
       "    }\n",
       "\n",
       "    .dataframe thead th {\n",
       "        text-align: right;\n",
       "    }\n",
       "</style>\n",
       "<table border=\"1\" class=\"dataframe\">\n",
       "  <thead>\n",
       "    <tr style=\"text-align: right;\">\n",
       "      <th></th>\n",
       "      <th>count</th>\n",
       "      <th>mean</th>\n",
       "      <th>std</th>\n",
       "      <th>min</th>\n",
       "      <th>25%</th>\n",
       "      <th>50%</th>\n",
       "      <th>75%</th>\n",
       "      <th>max</th>\n",
       "    </tr>\n",
       "  </thead>\n",
       "  <tbody>\n",
       "    <tr>\n",
       "      <th>recency</th>\n",
       "      <td>4314.000</td>\n",
       "      <td>91.270</td>\n",
       "      <td>96.944</td>\n",
       "      <td>1.000</td>\n",
       "      <td>18.000</td>\n",
       "      <td>53.000</td>\n",
       "      <td>136.000</td>\n",
       "      <td>374.000</td>\n",
       "    </tr>\n",
       "    <tr>\n",
       "      <th>frequency</th>\n",
       "      <td>4314.000</td>\n",
       "      <td>4.454</td>\n",
       "      <td>8.169</td>\n",
       "      <td>1.000</td>\n",
       "      <td>1.000</td>\n",
       "      <td>2.000</td>\n",
       "      <td>5.000</td>\n",
       "      <td>205.000</td>\n",
       "    </tr>\n",
       "    <tr>\n",
       "      <th>monetary</th>\n",
       "      <td>4314.000</td>\n",
       "      <td>2047.289</td>\n",
       "      <td>8912.523</td>\n",
       "      <td>0.000</td>\n",
       "      <td>307.950</td>\n",
       "      <td>705.550</td>\n",
       "      <td>1722.802</td>\n",
       "      <td>349164.350</td>\n",
       "    </tr>\n",
       "  </tbody>\n",
       "</table>\n",
       "</div>"
      ],
      "text/plain": [
       "             count     mean      std   min     25%     50%      75%        max\n",
       "recency   4314.000   91.270   96.944 1.000  18.000  53.000  136.000    374.000\n",
       "frequency 4314.000    4.454    8.169 1.000   1.000   2.000    5.000    205.000\n",
       "monetary  4314.000 2047.289 8912.523 0.000 307.950 705.550 1722.802 349164.350"
      ]
     },
     "execution_count": 25,
     "metadata": {},
     "output_type": "execute_result"
    }
   ],
   "source": [
    "rfm.describe().T"
   ]
  },
  {
   "cell_type": "markdown",
   "id": "30351169",
   "metadata": {
    "papermill": {
     "duration": 0.022848,
     "end_time": "2024-01-15T00:56:30.942743",
     "exception": false,
     "start_time": "2024-01-15T00:56:30.919895",
     "status": "completed"
    },
    "tags": []
   },
   "source": [
    "We are removing the ones with a Monetary value of 0"
   ]
  },
  {
   "cell_type": "code",
   "execution_count": 26,
   "id": "e36e3f87",
   "metadata": {
    "execution": {
     "iopub.execute_input": "2024-01-15T00:56:30.992849Z",
     "iopub.status.busy": "2024-01-15T00:56:30.991717Z",
     "iopub.status.idle": "2024-01-15T00:56:30.998298Z",
     "shell.execute_reply": "2024-01-15T00:56:30.997145Z"
    },
    "papermill": {
     "duration": 0.034355,
     "end_time": "2024-01-15T00:56:31.000815",
     "exception": false,
     "start_time": "2024-01-15T00:56:30.966460",
     "status": "completed"
    },
    "tags": []
   },
   "outputs": [],
   "source": [
    "rfm = rfm[rfm[\"monetary\"] > 0] "
   ]
  },
  {
   "cell_type": "code",
   "execution_count": 27,
   "id": "8234be21",
   "metadata": {
    "execution": {
     "iopub.execute_input": "2024-01-15T00:56:31.049619Z",
     "iopub.status.busy": "2024-01-15T00:56:31.049189Z",
     "iopub.status.idle": "2024-01-15T00:56:31.055512Z",
     "shell.execute_reply": "2024-01-15T00:56:31.054730Z"
    },
    "papermill": {
     "duration": 0.033177,
     "end_time": "2024-01-15T00:56:31.057595",
     "exception": false,
     "start_time": "2024-01-15T00:56:31.024418",
     "status": "completed"
    },
    "tags": []
   },
   "outputs": [
    {
     "data": {
      "text/plain": [
       "(4312, 3)"
      ]
     },
     "execution_count": 27,
     "metadata": {},
     "output_type": "execute_result"
    }
   ],
   "source": [
    "rfm.shape"
   ]
  },
  {
   "cell_type": "markdown",
   "id": "d3de3b58",
   "metadata": {
    "papermill": {
     "duration": 0.023064,
     "end_time": "2024-01-15T00:56:31.104006",
     "exception": false,
     "start_time": "2024-01-15T00:56:31.080942",
     "status": "completed"
    },
    "tags": []
   },
   "source": [
    "The next step is to convert data metrics into data scores."
   ]
  },
  {
   "cell_type": "markdown",
   "id": "62acb3ac",
   "metadata": {
    "papermill": {
     "duration": 0.023083,
     "end_time": "2024-01-15T00:56:31.150577",
     "exception": false,
     "start_time": "2024-01-15T00:56:31.127494",
     "status": "completed"
    },
    "tags": []
   },
   "source": [
    "## Calculating RFM Scores"
   ]
  },
  {
   "cell_type": "markdown",
   "id": "c36766d4",
   "metadata": {
    "papermill": {
     "duration": 0.023134,
     "end_time": "2024-01-15T00:56:31.197048",
     "exception": false,
     "start_time": "2024-01-15T00:56:31.173914",
     "status": "completed"
    },
    "tags": []
   },
   "source": [
    "R and F values are sufficient for RFM scores, and we have set Monetary values just for observation."
   ]
  },
  {
   "cell_type": "code",
   "execution_count": 28,
   "id": "19f9f3ca",
   "metadata": {
    "execution": {
     "iopub.execute_input": "2024-01-15T00:56:31.245577Z",
     "iopub.status.busy": "2024-01-15T00:56:31.245145Z",
     "iopub.status.idle": "2024-01-15T00:56:31.266786Z",
     "shell.execute_reply": "2024-01-15T00:56:31.265627Z"
    },
    "papermill": {
     "duration": 0.049244,
     "end_time": "2024-01-15T00:56:31.269556",
     "exception": false,
     "start_time": "2024-01-15T00:56:31.220312",
     "status": "completed"
    },
    "tags": []
   },
   "outputs": [],
   "source": [
    "rfm[\"recency_score\"] = pd.qcut(rfm['recency'], 5, labels=[5, 4, 3, 2, 1])\n",
    "rfm[\"frequency_score\"] = pd.qcut(rfm['frequency'].rank(method=\"first\"), 5, labels=[1, 2, 3, 4, 5])\n",
    "rfm[\"monetary_score\"] = pd.qcut(rfm['monetary'], 5, labels=[1, 2, 3, 4, 5])"
   ]
  },
  {
   "cell_type": "markdown",
   "id": "edae6189",
   "metadata": {
    "papermill": {
     "duration": 0.023158,
     "end_time": "2024-01-15T00:56:31.316312",
     "exception": false,
     "start_time": "2024-01-15T00:56:31.293154",
     "status": "completed"
    },
    "tags": []
   },
   "source": [
    "We need to create a score variable based on these values. We should combine R and F values, convert them to string values, and concatenate them."
   ]
  },
  {
   "cell_type": "code",
   "execution_count": 29,
   "id": "178dd677",
   "metadata": {
    "execution": {
     "iopub.execute_input": "2024-01-15T00:56:31.365855Z",
     "iopub.status.busy": "2024-01-15T00:56:31.364714Z",
     "iopub.status.idle": "2024-01-15T00:56:31.374579Z",
     "shell.execute_reply": "2024-01-15T00:56:31.373332Z"
    },
    "papermill": {
     "duration": 0.03753,
     "end_time": "2024-01-15T00:56:31.377440",
     "exception": false,
     "start_time": "2024-01-15T00:56:31.339910",
     "status": "completed"
    },
    "tags": []
   },
   "outputs": [],
   "source": [
    "rfm[\"RFM_SCORE\"] = (rfm['recency_score'].astype(str) +\n",
    "                    rfm['frequency_score'].astype(str))"
   ]
  },
  {
   "cell_type": "code",
   "execution_count": 30,
   "id": "5c452432",
   "metadata": {
    "execution": {
     "iopub.execute_input": "2024-01-15T00:56:31.428145Z",
     "iopub.status.busy": "2024-01-15T00:56:31.427704Z",
     "iopub.status.idle": "2024-01-15T00:56:31.442394Z",
     "shell.execute_reply": "2024-01-15T00:56:31.441284Z"
    },
    "papermill": {
     "duration": 0.043408,
     "end_time": "2024-01-15T00:56:31.444806",
     "exception": false,
     "start_time": "2024-01-15T00:56:31.401398",
     "status": "completed"
    },
    "tags": []
   },
   "outputs": [
    {
     "data": {
      "text/html": [
       "<div>\n",
       "<style scoped>\n",
       "    .dataframe tbody tr th:only-of-type {\n",
       "        vertical-align: middle;\n",
       "    }\n",
       "\n",
       "    .dataframe tbody tr th {\n",
       "        vertical-align: top;\n",
       "    }\n",
       "\n",
       "    .dataframe thead th {\n",
       "        text-align: right;\n",
       "    }\n",
       "</style>\n",
       "<table border=\"1\" class=\"dataframe\">\n",
       "  <thead>\n",
       "    <tr style=\"text-align: right;\">\n",
       "      <th></th>\n",
       "      <th>recency</th>\n",
       "      <th>frequency</th>\n",
       "      <th>monetary</th>\n",
       "      <th>recency_score</th>\n",
       "      <th>frequency_score</th>\n",
       "      <th>monetary_score</th>\n",
       "      <th>RFM_SCORE</th>\n",
       "    </tr>\n",
       "    <tr>\n",
       "      <th>Customer ID</th>\n",
       "      <th></th>\n",
       "      <th></th>\n",
       "      <th></th>\n",
       "      <th></th>\n",
       "      <th></th>\n",
       "      <th></th>\n",
       "      <th></th>\n",
       "    </tr>\n",
       "  </thead>\n",
       "  <tbody>\n",
       "    <tr>\n",
       "      <th>12346.000</th>\n",
       "      <td>165</td>\n",
       "      <td>11</td>\n",
       "      <td>372.860</td>\n",
       "      <td>2</td>\n",
       "      <td>5</td>\n",
       "      <td>2</td>\n",
       "      <td>25</td>\n",
       "    </tr>\n",
       "    <tr>\n",
       "      <th>12347.000</th>\n",
       "      <td>3</td>\n",
       "      <td>2</td>\n",
       "      <td>1323.320</td>\n",
       "      <td>5</td>\n",
       "      <td>2</td>\n",
       "      <td>4</td>\n",
       "      <td>52</td>\n",
       "    </tr>\n",
       "    <tr>\n",
       "      <th>12348.000</th>\n",
       "      <td>74</td>\n",
       "      <td>1</td>\n",
       "      <td>222.160</td>\n",
       "      <td>2</td>\n",
       "      <td>1</td>\n",
       "      <td>1</td>\n",
       "      <td>21</td>\n",
       "    </tr>\n",
       "    <tr>\n",
       "      <th>12349.000</th>\n",
       "      <td>43</td>\n",
       "      <td>3</td>\n",
       "      <td>2671.140</td>\n",
       "      <td>3</td>\n",
       "      <td>3</td>\n",
       "      <td>5</td>\n",
       "      <td>33</td>\n",
       "    </tr>\n",
       "    <tr>\n",
       "      <th>12351.000</th>\n",
       "      <td>11</td>\n",
       "      <td>1</td>\n",
       "      <td>300.930</td>\n",
       "      <td>5</td>\n",
       "      <td>1</td>\n",
       "      <td>2</td>\n",
       "      <td>51</td>\n",
       "    </tr>\n",
       "  </tbody>\n",
       "</table>\n",
       "</div>"
      ],
      "text/plain": [
       "             recency  frequency  monetary recency_score frequency_score  \\\n",
       "Customer ID                                                               \n",
       "12346.000        165         11   372.860             2               5   \n",
       "12347.000          3          2  1323.320             5               2   \n",
       "12348.000         74          1   222.160             2               1   \n",
       "12349.000         43          3  2671.140             3               3   \n",
       "12351.000         11          1   300.930             5               1   \n",
       "\n",
       "            monetary_score RFM_SCORE  \n",
       "Customer ID                           \n",
       "12346.000                2        25  \n",
       "12347.000                4        52  \n",
       "12348.000                1        21  \n",
       "12349.000                5        33  \n",
       "12351.000                2        51  "
      ]
     },
     "execution_count": 30,
     "metadata": {},
     "output_type": "execute_result"
    }
   ],
   "source": [
    "rfm.head()"
   ]
  },
  {
   "cell_type": "markdown",
   "id": "23296881",
   "metadata": {
    "papermill": {
     "duration": 0.023517,
     "end_time": "2024-01-15T00:56:31.492134",
     "exception": false,
     "start_time": "2024-01-15T00:56:31.468617",
     "status": "completed"
    },
    "tags": []
   },
   "source": [
    "## Creating & Analysing RFM Segments"
   ]
  },
  {
   "attachments": {
    "6b10d331-4734-4906-b980-03fd4c8084bb.png": {
     "image/png": "[encoded data removed]"
    }
   },
   "cell_type": "markdown",
   "id": "c5a37e2f",
   "metadata": {
    "papermill": {
     "duration": 0.023295,
     "end_time": "2024-01-15T00:56:31.539230",
     "exception": false,
     "start_time": "2024-01-15T00:56:31.515935",
     "status": "completed"
    },
    "tags": []
   },
   "source": [
    "![RFM.png](attachment:6b10d331-4734-4906-b980-03fd4c8084bb.png)"
   ]
  },
  {
   "cell_type": "code",
   "execution_count": 31,
   "id": "7dccefa4",
   "metadata": {
    "execution": {
     "iopub.execute_input": "2024-01-15T00:56:31.589523Z",
     "iopub.status.busy": "2024-01-15T00:56:31.589088Z",
     "iopub.status.idle": "2024-01-15T00:56:31.595255Z",
     "shell.execute_reply": "2024-01-15T00:56:31.594123Z"
    },
    "papermill": {
     "duration": 0.034439,
     "end_time": "2024-01-15T00:56:31.597559",
     "exception": false,
     "start_time": "2024-01-15T00:56:31.563120",
     "status": "completed"
    },
    "tags": []
   },
   "outputs": [],
   "source": [
    "seg_map = {\n",
    "    r'[1-2][1-2]': 'hibernating',  \n",
    "    r'[1-2][3-4]': 'at_Risk',\n",
    "    r'[1-2]5': 'cant_loose',\n",
    "    r'3[1-2]': 'about_to_sleep',\n",
    "    r'33': 'need_attention', \n",
    "    r'[3-4][4-5]': 'loyal_customers',\n",
    "    r'41': 'promising',\n",
    "    r'51': 'new_customers',\n",
    "    r'[4-5][2-3]': 'potential_loyalists',\n",
    "    r'5[4-5]': 'champions'\n",
    "}"
   ]
  },
  {
   "cell_type": "code",
   "execution_count": 32,
   "id": "aa5bbd78",
   "metadata": {
    "execution": {
     "iopub.execute_input": "2024-01-15T00:56:31.648581Z",
     "iopub.status.busy": "2024-01-15T00:56:31.648177Z",
     "iopub.status.idle": "2024-01-15T00:56:31.755337Z",
     "shell.execute_reply": "2024-01-15T00:56:31.754210Z"
    },
    "papermill": {
     "duration": 0.13552,
     "end_time": "2024-01-15T00:56:31.757922",
     "exception": false,
     "start_time": "2024-01-15T00:56:31.622402",
     "status": "completed"
    },
    "tags": []
   },
   "outputs": [
    {
     "data": {
      "text/plain": [
       "Customer ID\n",
       "12346.000             cant_loose\n",
       "12347.000    potential_loyalists\n",
       "12348.000            hibernating\n",
       "12349.000         need_attention\n",
       "12351.000          new_customers\n",
       "Name: segment, dtype: object"
      ]
     },
     "execution_count": 32,
     "metadata": {},
     "output_type": "execute_result"
    }
   ],
   "source": [
    "rfm['segment'] = rfm['RFM_SCORE'].replace(seg_map, regex=True) \n",
    "rfm['segment'].head()"
   ]
  },
  {
   "cell_type": "code",
   "execution_count": 33,
   "id": "23e95e7e",
   "metadata": {
    "execution": {
     "iopub.execute_input": "2024-01-15T00:56:31.809583Z",
     "iopub.status.busy": "2024-01-15T00:56:31.809178Z",
     "iopub.status.idle": "2024-01-15T00:56:31.836382Z",
     "shell.execute_reply": "2024-01-15T00:56:31.835220Z"
    },
    "papermill": {
     "duration": 0.055706,
     "end_time": "2024-01-15T00:56:31.839232",
     "exception": false,
     "start_time": "2024-01-15T00:56:31.783526",
     "status": "completed"
    },
    "tags": []
   },
   "outputs": [
    {
     "data": {
      "text/html": [
       "<div>\n",
       "<style scoped>\n",
       "    .dataframe tbody tr th:only-of-type {\n",
       "        vertical-align: middle;\n",
       "    }\n",
       "\n",
       "    .dataframe tbody tr th {\n",
       "        vertical-align: top;\n",
       "    }\n",
       "\n",
       "    .dataframe thead tr th {\n",
       "        text-align: left;\n",
       "    }\n",
       "\n",
       "    .dataframe thead tr:last-of-type th {\n",
       "        text-align: right;\n",
       "    }\n",
       "</style>\n",
       "<table border=\"1\" class=\"dataframe\">\n",
       "  <thead>\n",
       "    <tr>\n",
       "      <th></th>\n",
       "      <th colspan=\"2\" halign=\"left\">recency</th>\n",
       "      <th colspan=\"2\" halign=\"left\">frequency</th>\n",
       "      <th colspan=\"2\" halign=\"left\">monetary</th>\n",
       "    </tr>\n",
       "    <tr>\n",
       "      <th></th>\n",
       "      <th>mean</th>\n",
       "      <th>count</th>\n",
       "      <th>mean</th>\n",
       "      <th>count</th>\n",
       "      <th>mean</th>\n",
       "      <th>count</th>\n",
       "    </tr>\n",
       "    <tr>\n",
       "      <th>segment</th>\n",
       "      <th></th>\n",
       "      <th></th>\n",
       "      <th></th>\n",
       "      <th></th>\n",
       "      <th></th>\n",
       "      <th></th>\n",
       "    </tr>\n",
       "  </thead>\n",
       "  <tbody>\n",
       "    <tr>\n",
       "      <th>about_to_sleep</th>\n",
       "      <td>53.819</td>\n",
       "      <td>343</td>\n",
       "      <td>1.201</td>\n",
       "      <td>343</td>\n",
       "      <td>441.320</td>\n",
       "      <td>343</td>\n",
       "    </tr>\n",
       "    <tr>\n",
       "      <th>at_Risk</th>\n",
       "      <td>152.159</td>\n",
       "      <td>611</td>\n",
       "      <td>3.074</td>\n",
       "      <td>611</td>\n",
       "      <td>1188.878</td>\n",
       "      <td>611</td>\n",
       "    </tr>\n",
       "    <tr>\n",
       "      <th>cant_loose</th>\n",
       "      <td>124.117</td>\n",
       "      <td>77</td>\n",
       "      <td>9.117</td>\n",
       "      <td>77</td>\n",
       "      <td>4099.450</td>\n",
       "      <td>77</td>\n",
       "    </tr>\n",
       "    <tr>\n",
       "      <th>champions</th>\n",
       "      <td>7.119</td>\n",
       "      <td>663</td>\n",
       "      <td>12.554</td>\n",
       "      <td>663</td>\n",
       "      <td>6852.264</td>\n",
       "      <td>663</td>\n",
       "    </tr>\n",
       "    <tr>\n",
       "      <th>hibernating</th>\n",
       "      <td>213.886</td>\n",
       "      <td>1015</td>\n",
       "      <td>1.126</td>\n",
       "      <td>1015</td>\n",
       "      <td>403.978</td>\n",
       "      <td>1015</td>\n",
       "    </tr>\n",
       "    <tr>\n",
       "      <th>loyal_customers</th>\n",
       "      <td>36.287</td>\n",
       "      <td>742</td>\n",
       "      <td>6.830</td>\n",
       "      <td>742</td>\n",
       "      <td>2746.067</td>\n",
       "      <td>742</td>\n",
       "    </tr>\n",
       "    <tr>\n",
       "      <th>need_attention</th>\n",
       "      <td>53.266</td>\n",
       "      <td>207</td>\n",
       "      <td>2.449</td>\n",
       "      <td>207</td>\n",
       "      <td>1060.357</td>\n",
       "      <td>207</td>\n",
       "    </tr>\n",
       "    <tr>\n",
       "      <th>new_customers</th>\n",
       "      <td>8.580</td>\n",
       "      <td>50</td>\n",
       "      <td>1.000</td>\n",
       "      <td>50</td>\n",
       "      <td>386.199</td>\n",
       "      <td>50</td>\n",
       "    </tr>\n",
       "    <tr>\n",
       "      <th>potential_loyalists</th>\n",
       "      <td>18.793</td>\n",
       "      <td>517</td>\n",
       "      <td>2.017</td>\n",
       "      <td>517</td>\n",
       "      <td>729.511</td>\n",
       "      <td>517</td>\n",
       "    </tr>\n",
       "    <tr>\n",
       "      <th>promising</th>\n",
       "      <td>25.747</td>\n",
       "      <td>87</td>\n",
       "      <td>1.000</td>\n",
       "      <td>87</td>\n",
       "      <td>367.087</td>\n",
       "      <td>87</td>\n",
       "    </tr>\n",
       "  </tbody>\n",
       "</table>\n",
       "</div>"
      ],
      "text/plain": [
       "                    recency       frequency       monetary      \n",
       "                       mean count      mean count     mean count\n",
       "segment                                                         \n",
       "about_to_sleep       53.819   343     1.201   343  441.320   343\n",
       "at_Risk             152.159   611     3.074   611 1188.878   611\n",
       "cant_loose          124.117    77     9.117    77 4099.450    77\n",
       "champions             7.119   663    12.554   663 6852.264   663\n",
       "hibernating         213.886  1015     1.126  1015  403.978  1015\n",
       "loyal_customers      36.287   742     6.830   742 2746.067   742\n",
       "need_attention       53.266   207     2.449   207 1060.357   207\n",
       "new_customers         8.580    50     1.000    50  386.199    50\n",
       "potential_loyalists  18.793   517     2.017   517  729.511   517\n",
       "promising            25.747    87     1.000    87  367.087    87"
      ]
     },
     "execution_count": 33,
     "metadata": {},
     "output_type": "execute_result"
    }
   ],
   "source": [
    "rfm[[\"segment\", \"recency\", \"frequency\", \"monetary\"]].groupby(\"segment\").agg([\"mean\", \"count\"])"
   ]
  },
  {
   "cell_type": "markdown",
   "id": "d569c2df",
   "metadata": {
    "papermill": {
     "duration": 0.024847,
     "end_time": "2024-01-15T00:56:31.888365",
     "exception": false,
     "start_time": "2024-01-15T00:56:31.863518",
     "status": "completed"
    },
    "tags": []
   },
   "source": [
    "When we want to identify customers we are about to lose."
   ]
  },
  {
   "cell_type": "code",
   "execution_count": 34,
   "id": "8ee0533c",
   "metadata": {
    "execution": {
     "iopub.execute_input": "2024-01-15T00:56:31.940397Z",
     "iopub.status.busy": "2024-01-15T00:56:31.939964Z",
     "iopub.status.idle": "2024-01-15T00:56:31.958424Z",
     "shell.execute_reply": "2024-01-15T00:56:31.957223Z"
    },
    "papermill": {
     "duration": 0.047348,
     "end_time": "2024-01-15T00:56:31.960946",
     "exception": false,
     "start_time": "2024-01-15T00:56:31.913598",
     "status": "completed"
    },
    "tags": []
   },
   "outputs": [
    {
     "data": {
      "text/html": [
       "<div>\n",
       "<style scoped>\n",
       "    .dataframe tbody tr th:only-of-type {\n",
       "        vertical-align: middle;\n",
       "    }\n",
       "\n",
       "    .dataframe tbody tr th {\n",
       "        vertical-align: top;\n",
       "    }\n",
       "\n",
       "    .dataframe thead th {\n",
       "        text-align: right;\n",
       "    }\n",
       "</style>\n",
       "<table border=\"1\" class=\"dataframe\">\n",
       "  <thead>\n",
       "    <tr style=\"text-align: right;\">\n",
       "      <th></th>\n",
       "      <th>recency</th>\n",
       "      <th>frequency</th>\n",
       "      <th>monetary</th>\n",
       "      <th>recency_score</th>\n",
       "      <th>frequency_score</th>\n",
       "      <th>monetary_score</th>\n",
       "      <th>RFM_SCORE</th>\n",
       "      <th>segment</th>\n",
       "    </tr>\n",
       "    <tr>\n",
       "      <th>Customer ID</th>\n",
       "      <th></th>\n",
       "      <th></th>\n",
       "      <th></th>\n",
       "      <th></th>\n",
       "      <th></th>\n",
       "      <th></th>\n",
       "      <th></th>\n",
       "      <th></th>\n",
       "    </tr>\n",
       "  </thead>\n",
       "  <tbody>\n",
       "    <tr>\n",
       "      <th>12346.000</th>\n",
       "      <td>165</td>\n",
       "      <td>11</td>\n",
       "      <td>372.860</td>\n",
       "      <td>2</td>\n",
       "      <td>5</td>\n",
       "      <td>2</td>\n",
       "      <td>25</td>\n",
       "      <td>cant_loose</td>\n",
       "    </tr>\n",
       "    <tr>\n",
       "      <th>12380.000</th>\n",
       "      <td>101</td>\n",
       "      <td>7</td>\n",
       "      <td>6951.490</td>\n",
       "      <td>2</td>\n",
       "      <td>5</td>\n",
       "      <td>5</td>\n",
       "      <td>25</td>\n",
       "      <td>cant_loose</td>\n",
       "    </tr>\n",
       "    <tr>\n",
       "      <th>12482.000</th>\n",
       "      <td>212</td>\n",
       "      <td>29</td>\n",
       "      <td>23691.400</td>\n",
       "      <td>1</td>\n",
       "      <td>5</td>\n",
       "      <td>5</td>\n",
       "      <td>15</td>\n",
       "      <td>cant_loose</td>\n",
       "    </tr>\n",
       "    <tr>\n",
       "      <th>12510.000</th>\n",
       "      <td>95</td>\n",
       "      <td>7</td>\n",
       "      <td>4195.450</td>\n",
       "      <td>2</td>\n",
       "      <td>5</td>\n",
       "      <td>5</td>\n",
       "      <td>25</td>\n",
       "      <td>cant_loose</td>\n",
       "    </tr>\n",
       "    <tr>\n",
       "      <th>12891.000</th>\n",
       "      <td>94</td>\n",
       "      <td>8</td>\n",
       "      <td>509.500</td>\n",
       "      <td>2</td>\n",
       "      <td>5</td>\n",
       "      <td>3</td>\n",
       "      <td>25</td>\n",
       "      <td>cant_loose</td>\n",
       "    </tr>\n",
       "  </tbody>\n",
       "</table>\n",
       "</div>"
      ],
      "text/plain": [
       "             recency  frequency  monetary recency_score frequency_score  \\\n",
       "Customer ID                                                               \n",
       "12346.000        165         11   372.860             2               5   \n",
       "12380.000        101          7  6951.490             2               5   \n",
       "12482.000        212         29 23691.400             1               5   \n",
       "12510.000         95          7  4195.450             2               5   \n",
       "12891.000         94          8   509.500             2               5   \n",
       "\n",
       "            monetary_score RFM_SCORE     segment  \n",
       "Customer ID                                       \n",
       "12346.000                2        25  cant_loose  \n",
       "12380.000                5        25  cant_loose  \n",
       "12482.000                5        15  cant_loose  \n",
       "12510.000                5        25  cant_loose  \n",
       "12891.000                3        25  cant_loose  "
      ]
     },
     "execution_count": 34,
     "metadata": {},
     "output_type": "execute_result"
    }
   ],
   "source": [
    "rfm[rfm[\"segment\"] == \"cant_loose\"].head()"
   ]
  },
  {
   "cell_type": "markdown",
   "id": "99360dec",
   "metadata": {
    "papermill": {
     "duration": 0.025039,
     "end_time": "2024-01-15T00:56:32.011212",
     "exception": false,
     "start_time": "2024-01-15T00:56:31.986173",
     "status": "completed"
    },
    "tags": []
   },
   "source": [
    "If we only want to access their IDs, we add 'index' to the end."
   ]
  },
  {
   "cell_type": "code",
   "execution_count": 35,
   "id": "0e003f57",
   "metadata": {
    "execution": {
     "iopub.execute_input": "2024-01-15T00:56:32.062902Z",
     "iopub.status.busy": "2024-01-15T00:56:32.062470Z",
     "iopub.status.idle": "2024-01-15T00:56:32.072300Z",
     "shell.execute_reply": "2024-01-15T00:56:32.071354Z"
    },
    "papermill": {
     "duration": 0.038239,
     "end_time": "2024-01-15T00:56:32.074369",
     "exception": false,
     "start_time": "2024-01-15T00:56:32.036130",
     "status": "completed"
    },
    "tags": []
   },
   "outputs": [
    {
     "data": {
      "text/plain": [
       "Index([12346.0, 12380.0, 12482.0, 12510.0, 12891.0, 12932.0, 13044.0, 13313.0,\n",
       "       13680.0, 13782.0, 13799.0, 13856.0, 14025.0, 14063.0, 14160.0, 14221.0,\n",
       "       14548.0, 14607.0, 14685.0, 14745.0, 15003.0, 15013.0, 15015.0, 15125.0,\n",
       "       15141.0, 15222.0, 15306.0, 15321.0, 15359.0, 15369.0, 15372.0, 15443.0,\n",
       "       15538.0, 15607.0, 15633.0, 15722.0, 15751.0, 15754.0, 15768.0, 15911.0,\n",
       "       15912.0, 16027.0, 16032.0, 16158.0, 16177.0, 16197.0, 16335.0, 16467.0,\n",
       "       16631.0, 16742.0, 16743.0, 16875.0, 16986.0, 17021.0, 17032.0, 17092.0,\n",
       "       17113.0, 17157.0, 17188.0, 17230.0, 17268.0, 17426.0, 17448.0, 17454.0,\n",
       "       17512.0, 17578.0, 17602.0, 17651.0, 17940.0, 17969.0, 17988.0, 18009.0,\n",
       "       18051.0, 18064.0, 18094.0, 18251.0, 18258.0],\n",
       "      dtype='float64', name='Customer ID')"
      ]
     },
     "execution_count": 35,
     "metadata": {},
     "output_type": "execute_result"
    }
   ],
   "source": [
    "rfm[rfm[\"segment\"] == \"cant_loose\"].index "
   ]
  }
 ],
 "metadata": {
  "kaggle": {
   "accelerator": "none",
   "dataSources": [
    {
     "datasetId": 3909076,
     "sourceId": 6794698,
     "sourceType": "datasetVersion"
    }
   ],
   "dockerImageVersionId": 30558,
   "isGpuEnabled": false,
   "isInternetEnabled": false,
   "language": "python",
   "sourceType": "notebook"
  },
  "kernelspec": {
   "display_name": "Python 3",
   "language": "python",
   "name": "python3"
  },
  "language_info": {
   "codemirror_mode": {
    "name": "ipython",
    "version": 3
   },
   "file_extension": ".py",
   "mimetype": "text/x-python",
   "name": "python",
   "nbconvert_exporter": "python",
   "pygments_lexer": "ipython3",
   "version": "3.10.12"
  },
  "papermill": {
   "default_parameters": {},
   "duration": 115.277736,
   "end_time": "2024-01-15T00:56:32.721101",
   "environment_variables": {},
   "exception": null,
   "input_path": "__notebook__.ipynb",
   "output_path": "__notebook__.ipynb",
   "parameters": {},
   "start_time": "2024-01-15T00:54:37.443365",
   "version": "2.4.0"
  }
 },
 "nbformat": 4,
 "nbformat_minor": 5
}
